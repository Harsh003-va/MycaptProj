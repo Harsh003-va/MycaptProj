{
 "cells": [
  {
   "cell_type": "code",
   "execution_count": 2,
   "id": "3edeae5e-24bc-49b8-b7c2-d61e219de15e",
   "metadata": {},
   "outputs": [
    {
     "name": "stdout",
     "output_type": "stream",
     "text": [
      " Hi Harsh,\n"
     ]
    },
    {
     "name": "stdin",
     "output_type": "stream",
     "text": [
      "Enter how many numbers needed in Fibonacci series-  10\n"
     ]
    },
    {
     "name": "stdout",
     "output_type": "stream",
     "text": [
      "0 1 1 2 3 5 8 13 21 34 "
     ]
    }
   ],
   "source": [
    "def fibonacci(num):\n",
    "    num1 = 0\n",
    "    num2 = 1\n",
    "    series = 0\n",
    "    for i in range(num):\n",
    "        print(series, end=' ');\n",
    "        num1 = num2;\n",
    "        num2 = series;\n",
    "        series = num1 + num2;\n",
    "\n",
    "print(\" Hi Harsh,\")\n",
    "# running function after takking user input\n",
    "num = int(input('Enter how many numbers needed in Fibonacci series- '))\n",
    "fibonacci(num)"
   ]
  },
  {
   "cell_type": "code",
   "execution_count": null,
   "id": "8ce0bd73-1c77-4f00-bb22-ce77e8cb1697",
   "metadata": {},
   "outputs": [],
   "source": []
  }
 ],
 "metadata": {
  "kernelspec": {
   "display_name": "Python 3 (ipykernel)",
   "language": "python",
   "name": "python3"
  },
  "language_info": {
   "codemirror_mode": {
    "name": "ipython",
    "version": 3
   },
   "file_extension": ".py",
   "mimetype": "text/x-python",
   "name": "python",
   "nbconvert_exporter": "python",
   "pygments_lexer": "ipython3",
   "version": "3.9.12"
  }
 },
 "nbformat": 4,
 "nbformat_minor": 5
}
