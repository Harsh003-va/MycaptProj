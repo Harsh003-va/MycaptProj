{
  "nbformat": 4,
  "nbformat_minor": 0,
  "metadata": {
    "colab": {
      "provenance": [],
      "include_colab_link": true
    },
    "kernelspec": {
      "name": "python3",
      "display_name": "Python 3"
    },
    "language_info": {
      "name": "python"
    },
    "accelerator": "GPU",
    "gpuClass": "standard"
  },
  "cells": [
    {
      "cell_type": "markdown",
      "metadata": {
        "id": "view-in-github",
        "colab_type": "text"
      },
      "source": [
        "<a href=\"https://colab.research.google.com/github/Harsh003-va/MycaptProj/blob/main/Arrythmia_Prediction.ipynb\" target=\"_parent\"><img src=\"https://colab.research.google.com/assets/colab-badge.svg\" alt=\"Open In Colab\"/></a>"
      ]
    },
    {
      "cell_type": "markdown",
      "source": [
        "# **PREDICTION AND CLASSIFICATION OF CARDIAC ARRYTHMIA USING DEEP LEARNING**\n",
        "\n"
      ],
      "metadata": {
        "id": "UZU1MHPz_Itr"
      }
    },
    {
      "cell_type": "code",
      "execution_count": null,
      "metadata": {
        "colab": {
          "base_uri": "https://localhost:8080/"
        },
        "id": "sn8_AW2PtRyF",
        "outputId": "af6ec625-6e56-4653-e9df-f96fec559e9e"
      },
      "outputs": [
        {
          "output_type": "stream",
          "name": "stdout",
          "text": [
            "Looking in indexes: https://pypi.org/simple, https://us-python.pkg.dev/colab-wheels/public/simple/\n",
            "Requirement already satisfied: keras in /usr/local/lib/python3.9/dist-packages (2.11.0)\n",
            "Looking in indexes: https://pypi.org/simple, https://us-python.pkg.dev/colab-wheels/public/simple/\n",
            "Collecting wfdb\n",
            "  Downloading wfdb-4.1.0-py3-none-any.whl (159 kB)\n",
            "\u001b[2K     \u001b[90m━━━━━━━━━━━━━━━━━━━━━━━━━━━━━━━━━━━━━━\u001b[0m \u001b[32m159.9/159.9 KB\u001b[0m \u001b[31m15.4 MB/s\u001b[0m eta \u001b[36m0:00:00\u001b[0m\n",
            "\u001b[?25hRequirement already satisfied: numpy<2.0.0,>=1.10.1 in /usr/local/lib/python3.9/dist-packages (from wfdb) (1.22.4)\n",
            "Requirement already satisfied: requests<3.0.0,>=2.8.1 in /usr/local/lib/python3.9/dist-packages (from wfdb) (2.25.1)\n",
            "Requirement already satisfied: scipy<2.0.0,>=1.0.0 in /usr/local/lib/python3.9/dist-packages (from wfdb) (1.10.1)\n",
            "Requirement already satisfied: matplotlib<4.0.0,>=3.2.2 in /usr/local/lib/python3.9/dist-packages (from wfdb) (3.5.3)\n",
            "Collecting SoundFile<0.12.0,>=0.10.0\n",
            "  Downloading soundfile-0.11.0-py2.py3-none-any.whl (23 kB)\n",
            "Requirement already satisfied: pandas<2.0.0,>=1.0.0 in /usr/local/lib/python3.9/dist-packages (from wfdb) (1.3.5)\n",
            "Requirement already satisfied: kiwisolver>=1.0.1 in /usr/local/lib/python3.9/dist-packages (from matplotlib<4.0.0,>=3.2.2->wfdb) (1.4.4)\n",
            "Requirement already satisfied: packaging>=20.0 in /usr/local/lib/python3.9/dist-packages (from matplotlib<4.0.0,>=3.2.2->wfdb) (23.0)\n",
            "Requirement already satisfied: pillow>=6.2.0 in /usr/local/lib/python3.9/dist-packages (from matplotlib<4.0.0,>=3.2.2->wfdb) (8.4.0)\n",
            "Requirement already satisfied: pyparsing>=2.2.1 in /usr/local/lib/python3.9/dist-packages (from matplotlib<4.0.0,>=3.2.2->wfdb) (3.0.9)\n",
            "Requirement already satisfied: python-dateutil>=2.7 in /usr/local/lib/python3.9/dist-packages (from matplotlib<4.0.0,>=3.2.2->wfdb) (2.8.2)\n",
            "Requirement already satisfied: cycler>=0.10 in /usr/local/lib/python3.9/dist-packages (from matplotlib<4.0.0,>=3.2.2->wfdb) (0.11.0)\n",
            "Requirement already satisfied: fonttools>=4.22.0 in /usr/local/lib/python3.9/dist-packages (from matplotlib<4.0.0,>=3.2.2->wfdb) (4.39.0)\n",
            "Requirement already satisfied: pytz>=2017.3 in /usr/local/lib/python3.9/dist-packages (from pandas<2.0.0,>=1.0.0->wfdb) (2022.7.1)\n",
            "Requirement already satisfied: idna<3,>=2.5 in /usr/local/lib/python3.9/dist-packages (from requests<3.0.0,>=2.8.1->wfdb) (2.10)\n",
            "Requirement already satisfied: chardet<5,>=3.0.2 in /usr/local/lib/python3.9/dist-packages (from requests<3.0.0,>=2.8.1->wfdb) (4.0.0)\n",
            "Requirement already satisfied: certifi>=2017.4.17 in /usr/local/lib/python3.9/dist-packages (from requests<3.0.0,>=2.8.1->wfdb) (2022.12.7)\n",
            "Requirement already satisfied: urllib3<1.27,>=1.21.1 in /usr/local/lib/python3.9/dist-packages (from requests<3.0.0,>=2.8.1->wfdb) (1.26.14)\n",
            "Requirement already satisfied: cffi>=1.0 in /usr/local/lib/python3.9/dist-packages (from SoundFile<0.12.0,>=0.10.0->wfdb) (1.15.1)\n",
            "Requirement already satisfied: pycparser in /usr/local/lib/python3.9/dist-packages (from cffi>=1.0->SoundFile<0.12.0,>=0.10.0->wfdb) (2.21)\n",
            "Requirement already satisfied: six>=1.5 in /usr/local/lib/python3.9/dist-packages (from python-dateutil>=2.7->matplotlib<4.0.0,>=3.2.2->wfdb) (1.15.0)\n",
            "Installing collected packages: SoundFile, wfdb\n",
            "  Attempting uninstall: SoundFile\n",
            "    Found existing installation: soundfile 0.12.1\n",
            "    Uninstalling soundfile-0.12.1:\n",
            "      Successfully uninstalled soundfile-0.12.1\n",
            "Successfully installed SoundFile-0.11.0 wfdb-4.1.0\n",
            "Looking in indexes: https://pypi.org/simple, https://us-python.pkg.dev/colab-wheels/public/simple/\n",
            "Requirement already satisfied: numpy in /usr/local/lib/python3.9/dist-packages (1.22.4)\n",
            "Looking in indexes: https://pypi.org/simple, https://us-python.pkg.dev/colab-wheels/public/simple/\n",
            "Requirement already satisfied: pandas in /usr/local/lib/python3.9/dist-packages (1.3.5)\n",
            "Requirement already satisfied: pytz>=2017.3 in /usr/local/lib/python3.9/dist-packages (from pandas) (2022.7.1)\n",
            "Requirement already satisfied: python-dateutil>=2.7.3 in /usr/local/lib/python3.9/dist-packages (from pandas) (2.8.2)\n",
            "Requirement already satisfied: numpy>=1.17.3 in /usr/local/lib/python3.9/dist-packages (from pandas) (1.22.4)\n",
            "Requirement already satisfied: six>=1.5 in /usr/local/lib/python3.9/dist-packages (from python-dateutil>=2.7.3->pandas) (1.15.0)\n",
            "Looking in indexes: https://pypi.org/simple, https://us-python.pkg.dev/colab-wheels/public/simple/\n",
            "Requirement already satisfied: scipy in /usr/local/lib/python3.9/dist-packages (1.10.1)\n",
            "Requirement already satisfied: numpy<1.27.0,>=1.19.5 in /usr/local/lib/python3.9/dist-packages (from scipy) (1.22.4)\n",
            "Looking in indexes: https://pypi.org/simple, https://us-python.pkg.dev/colab-wheels/public/simple/\n",
            "Requirement already satisfied: opencv-python in /usr/local/lib/python3.9/dist-packages (4.6.0.66)\n",
            "Requirement already satisfied: numpy>=1.17.3 in /usr/local/lib/python3.9/dist-packages (from opencv-python) (1.22.4)\n",
            "Looking in indexes: https://pypi.org/simple, https://us-python.pkg.dev/colab-wheels/public/simple/\n",
            "Requirement already satisfied: glob2 in /usr/local/lib/python3.9/dist-packages (0.7)\n"
          ]
        }
      ],
      "source": [
        "!pip install keras\n",
        "!pip install wfdb\n",
        "!pip install numpy\n",
        "!pip install pandas\n",
        "\n",
        "\n"
      ]
    },
    {
      "cell_type": "code",
      "source": [
        "!pip install tensorflow"
      ],
      "metadata": {
        "colab": {
          "base_uri": "https://localhost:8080/"
        },
        "id": "hmFo85DEyA8y",
        "outputId": "c8e24b0b-95f5-4977-f7de-83da6fc80be8"
      },
      "execution_count": null,
      "outputs": [
        {
          "output_type": "stream",
          "name": "stdout",
          "text": [
            "Looking in indexes: https://pypi.org/simple, https://us-python.pkg.dev/colab-wheels/public/simple/\n",
            "Requirement already satisfied: tensorflow in /usr/local/lib/python3.9/dist-packages (2.11.0)\n",
            "Requirement already satisfied: opt-einsum>=2.3.2 in /usr/local/lib/python3.9/dist-packages (from tensorflow) (3.3.0)\n",
            "Requirement already satisfied: wrapt>=1.11.0 in /usr/local/lib/python3.9/dist-packages (from tensorflow) (1.15.0)\n",
            "Requirement already satisfied: termcolor>=1.1.0 in /usr/local/lib/python3.9/dist-packages (from tensorflow) (2.2.0)\n",
            "Requirement already satisfied: astunparse>=1.6.0 in /usr/local/lib/python3.9/dist-packages (from tensorflow) (1.6.3)\n",
            "Requirement already satisfied: setuptools in /usr/local/lib/python3.9/dist-packages (from tensorflow) (57.4.0)\n",
            "Requirement already satisfied: keras<2.12,>=2.11.0 in /usr/local/lib/python3.9/dist-packages (from tensorflow) (2.11.0)\n",
            "Requirement already satisfied: libclang>=13.0.0 in /usr/local/lib/python3.9/dist-packages (from tensorflow) (15.0.6.1)\n",
            "Requirement already satisfied: tensorboard<2.12,>=2.11 in /usr/local/lib/python3.9/dist-packages (from tensorflow) (2.11.2)\n",
            "Requirement already satisfied: flatbuffers>=2.0 in /usr/local/lib/python3.9/dist-packages (from tensorflow) (23.3.3)\n",
            "Requirement already satisfied: gast<=0.4.0,>=0.2.1 in /usr/local/lib/python3.9/dist-packages (from tensorflow) (0.4.0)\n",
            "Requirement already satisfied: tensorflow-estimator<2.12,>=2.11.0 in /usr/local/lib/python3.9/dist-packages (from tensorflow) (2.11.0)\n",
            "Requirement already satisfied: typing-extensions>=3.6.6 in /usr/local/lib/python3.9/dist-packages (from tensorflow) (4.5.0)\n",
            "Requirement already satisfied: protobuf<3.20,>=3.9.2 in /usr/local/lib/python3.9/dist-packages (from tensorflow) (3.19.6)\n",
            "Requirement already satisfied: packaging in /usr/local/lib/python3.9/dist-packages (from tensorflow) (23.0)\n",
            "Requirement already satisfied: absl-py>=1.0.0 in /usr/local/lib/python3.9/dist-packages (from tensorflow) (1.4.0)\n",
            "Requirement already satisfied: tensorflow-io-gcs-filesystem>=0.23.1 in /usr/local/lib/python3.9/dist-packages (from tensorflow) (0.31.0)\n",
            "Requirement already satisfied: h5py>=2.9.0 in /usr/local/lib/python3.9/dist-packages (from tensorflow) (3.1.0)\n",
            "Requirement already satisfied: grpcio<2.0,>=1.24.3 in /usr/local/lib/python3.9/dist-packages (from tensorflow) (1.51.3)\n",
            "Requirement already satisfied: numpy>=1.20 in /usr/local/lib/python3.9/dist-packages (from tensorflow) (1.22.4)\n",
            "Requirement already satisfied: six>=1.12.0 in /usr/local/lib/python3.9/dist-packages (from tensorflow) (1.15.0)\n",
            "Requirement already satisfied: google-pasta>=0.1.1 in /usr/local/lib/python3.9/dist-packages (from tensorflow) (0.2.0)\n",
            "Requirement already satisfied: wheel<1.0,>=0.23.0 in /usr/local/lib/python3.9/dist-packages (from astunparse>=1.6.0->tensorflow) (0.38.4)\n",
            "Requirement already satisfied: google-auth-oauthlib<0.5,>=0.4.1 in /usr/local/lib/python3.9/dist-packages (from tensorboard<2.12,>=2.11->tensorflow) (0.4.6)\n",
            "Requirement already satisfied: tensorboard-plugin-wit>=1.6.0 in /usr/local/lib/python3.9/dist-packages (from tensorboard<2.12,>=2.11->tensorflow) (1.8.1)\n",
            "Requirement already satisfied: tensorboard-data-server<0.7.0,>=0.6.0 in /usr/local/lib/python3.9/dist-packages (from tensorboard<2.12,>=2.11->tensorflow) (0.6.1)\n",
            "Requirement already satisfied: requests<3,>=2.21.0 in /usr/local/lib/python3.9/dist-packages (from tensorboard<2.12,>=2.11->tensorflow) (2.25.1)\n",
            "Requirement already satisfied: werkzeug>=1.0.1 in /usr/local/lib/python3.9/dist-packages (from tensorboard<2.12,>=2.11->tensorflow) (2.2.3)\n",
            "Requirement already satisfied: google-auth<3,>=1.6.3 in /usr/local/lib/python3.9/dist-packages (from tensorboard<2.12,>=2.11->tensorflow) (2.16.2)\n",
            "Requirement already satisfied: markdown>=2.6.8 in /usr/local/lib/python3.9/dist-packages (from tensorboard<2.12,>=2.11->tensorflow) (3.4.1)\n",
            "Requirement already satisfied: rsa<5,>=3.1.4 in /usr/local/lib/python3.9/dist-packages (from google-auth<3,>=1.6.3->tensorboard<2.12,>=2.11->tensorflow) (4.9)\n",
            "Requirement already satisfied: cachetools<6.0,>=2.0.0 in /usr/local/lib/python3.9/dist-packages (from google-auth<3,>=1.6.3->tensorboard<2.12,>=2.11->tensorflow) (5.3.0)\n",
            "Requirement already satisfied: pyasn1-modules>=0.2.1 in /usr/local/lib/python3.9/dist-packages (from google-auth<3,>=1.6.3->tensorboard<2.12,>=2.11->tensorflow) (0.2.8)\n",
            "Requirement already satisfied: requests-oauthlib>=0.7.0 in /usr/local/lib/python3.9/dist-packages (from google-auth-oauthlib<0.5,>=0.4.1->tensorboard<2.12,>=2.11->tensorflow) (1.3.1)\n",
            "Requirement already satisfied: importlib-metadata>=4.4 in /usr/local/lib/python3.9/dist-packages (from markdown>=2.6.8->tensorboard<2.12,>=2.11->tensorflow) (6.0.0)\n",
            "Requirement already satisfied: certifi>=2017.4.17 in /usr/local/lib/python3.9/dist-packages (from requests<3,>=2.21.0->tensorboard<2.12,>=2.11->tensorflow) (2022.12.7)\n",
            "Requirement already satisfied: chardet<5,>=3.0.2 in /usr/local/lib/python3.9/dist-packages (from requests<3,>=2.21.0->tensorboard<2.12,>=2.11->tensorflow) (4.0.0)\n",
            "Requirement already satisfied: urllib3<1.27,>=1.21.1 in /usr/local/lib/python3.9/dist-packages (from requests<3,>=2.21.0->tensorboard<2.12,>=2.11->tensorflow) (1.26.14)\n",
            "Requirement already satisfied: idna<3,>=2.5 in /usr/local/lib/python3.9/dist-packages (from requests<3,>=2.21.0->tensorboard<2.12,>=2.11->tensorflow) (2.10)\n",
            "Requirement already satisfied: MarkupSafe>=2.1.1 in /usr/local/lib/python3.9/dist-packages (from werkzeug>=1.0.1->tensorboard<2.12,>=2.11->tensorflow) (2.1.2)\n",
            "Requirement already satisfied: zipp>=0.5 in /usr/local/lib/python3.9/dist-packages (from importlib-metadata>=4.4->markdown>=2.6.8->tensorboard<2.12,>=2.11->tensorflow) (3.15.0)\n",
            "Requirement already satisfied: pyasn1<0.5.0,>=0.4.6 in /usr/local/lib/python3.9/dist-packages (from pyasn1-modules>=0.2.1->google-auth<3,>=1.6.3->tensorboard<2.12,>=2.11->tensorflow) (0.4.8)\n",
            "Requirement already satisfied: oauthlib>=3.0.0 in /usr/local/lib/python3.9/dist-packages (from requests-oauthlib>=0.7.0->google-auth-oauthlib<0.5,>=0.4.1->tensorboard<2.12,>=2.11->tensorflow) (3.2.2)\n"
          ]
        }
      ]
    },
    {
      "cell_type": "code",
      "source": [
        "import numpy as np\n",
        "import tensorflow\n",
        "import keras\n",
        "from tensorflow.keras import backend as K\n",
        "from tensorflow.keras.models import Sequential\n",
        "from tensorflow.keras.layers import Dense, Dropout, Activation, Flatten\n",
        "from tensorflow.keras.optimizers import Adam\n",
        "from tensorflow.keras.metrics import categorical_crossentropy\n",
        "from tensorflow.keras.preprocessing.image import ImageDataGenerator\n",
        "from tensorflow.keras.layers import BatchNormalization\n",
        "from tensorflow.keras.callbacks import TensorBoard \n",
        "from tensorflow.keras.layers import Conv2D, MaxPool2D\n",
        "#from keras.layers.convolutional import *\n",
        "from matplotlib import pyplot as plt\n",
        "from sklearn.metrics import confusion_matrix\n",
        "import itertools\n",
        "import matplotlib.pyplot as plt \n",
        "import datetime\n",
        "import os"
      ],
      "metadata": {
        "id": "5ReoStkQyqq5"
      },
      "execution_count": null,
      "outputs": []
    },
    {
      "cell_type": "code",
      "source": [
        "tensorboard = TensorBoard(log_dir = os.path.join(\n",
        "    \"logs\",\n",
        "    \"fit\",\n",
        "    datetime.datetime.now().strftime(\"%Y%m%d-%H%M%S\"),\n",
        "))"
      ],
      "metadata": {
        "id": "IW39WFviy1w7"
      },
      "execution_count": null,
      "outputs": []
    },
    {
      "cell_type": "code",
      "source": [
        "train_path = '/content/drive/MyDrive/Dataset/train'\n",
        "test_path = '/content/drive/MyDrive/Dataset/test'\n",
        "\n",
        "train_datagen = ImageDataGenerator(rescale=1.0/255.0, shear_range=0.2, zoom_range=0.2, horizontal_flip=True)\n",
        "test_datagen = ImageDataGenerator(rescale=1.0/255.0)\n",
        "\n",
        "train_batches = train_datagen.flow_from_directory(train_path, target_size=(128, 128), classes=['F','N','Q','S','V'], batch_size=32, class_mode='categorical')\n",
        "\n",
        "test_batches = test_datagen.flow_from_directory(test_path, target_size=(224, 224), classes=['F','N','Q','S','V'], batch_size=16, shuffle=False)"
      ],
      "metadata": {
        "id": "QRe7R2qE0NX_",
        "colab": {
          "base_uri": "https://localhost:8080/"
        },
        "outputId": "bedeec04-999d-4142-a5da-0f1d87732418"
      },
      "execution_count": null,
      "outputs": [
        {
          "output_type": "stream",
          "name": "stdout",
          "text": [
            "Found 203 images belonging to 5 classes.\n",
            "Found 29 images belonging to 5 classes.\n"
          ]
        }
      ]
    },
    {
      "cell_type": "code",
      "source": [
        "from google.colab import drive\n",
        "drive.mount('/content/drive')"
      ],
      "metadata": {
        "colab": {
          "base_uri": "https://localhost:8080/"
        },
        "id": "_U0gHIAybGzb",
        "outputId": "6c5023d3-c030-4825-b378-fdc9c0fed99b"
      },
      "execution_count": null,
      "outputs": [
        {
          "output_type": "stream",
          "name": "stdout",
          "text": [
            "Drive already mounted at /content/drive; to attempt to forcibly remount, call drive.mount(\"/content/drive\", force_remount=True).\n"
          ]
        }
      ]
    },
    {
      "cell_type": "code",
      "source": [
        "IMAGE_SIZE = (128,128,3)\n",
        "model = Sequential()\n",
        "\n",
        "model.add(Conv2D(64, (3,3),strides = (1,1), input_shape = IMAGE_SIZE,kernel_initializer='glorot_uniform'))\n",
        "\n",
        "model.add(tensorflow.keras.layers.ELU())\n",
        "\n",
        "model.add(BatchNormalization())\n",
        "\n",
        "model.add(Conv2D(64, (3,3),strides = (1,1),kernel_initializer='glorot_uniform'))\n",
        "\n",
        "model.add(tensorflow.keras.layers.ELU())\n",
        "\n",
        "model.add(BatchNormalization())\n",
        "\n",
        "model.add(MaxPool2D(pool_size=(2, 2), strides= (2,2)))\n",
        "\n",
        "model.add(Conv2D(128, (3,3),strides = (1,1),kernel_initializer='glorot_uniform'))\n",
        "\n",
        "model.add(tensorflow.keras.layers.ELU())\n",
        "\n",
        "model.add(BatchNormalization())\n",
        "\n",
        "model.add(Conv2D(128, (3,3),strides = (1,1),kernel_initializer='glorot_uniform'))\n",
        "\n",
        "model.add(tensorflow.keras.layers.ELU())\n",
        "\n",
        "model.add(BatchNormalization())\n",
        "\n",
        "model.add(MaxPool2D(pool_size=(2, 2), strides= (2,2)))\n",
        "\n",
        "model.add(Conv2D(256, (3,3),strides = (1,1),kernel_initializer='glorot_uniform'))\n",
        "\n",
        "model.add(tensorflow.keras.layers.ELU())\n",
        "\n",
        "model.add(BatchNormalization())\n",
        "\n",
        "model.add(Conv2D(256, (3,3),strides = (1,1),kernel_initializer='glorot_uniform'))\n",
        "\n",
        "model.add(tensorflow.keras.layers.ELU())\n",
        "\n",
        "model.add(BatchNormalization())\n",
        "\n",
        "model.add(MaxPool2D(pool_size=(2, 2), strides= (2,2)))\n",
        "\n",
        "model.add(Flatten())\n",
        "\n",
        "model.add(Dense(2048))\n",
        "\n",
        "model.add(tensorflow.keras.layers.ELU())\n",
        "\n",
        "model.add(BatchNormalization())\n",
        "\n",
        "model.add(Dropout(0.5))\n",
        "\n",
        "model.add(Dense(5, activation='softmax'))\n"
      ],
      "metadata": {
        "id": "1O2h6BfWAuC5"
      },
      "execution_count": null,
      "outputs": []
    },
    {
      "cell_type": "code",
      "source": [
        "len(model.layers)"
      ],
      "metadata": {
        "colab": {
          "base_uri": "https://localhost:8080/"
        },
        "id": "--sWS83piNF8",
        "outputId": "6b5ddc1c-7fbc-4bb2-d87c-43e7711beffd"
      },
      "execution_count": null,
      "outputs": [
        {
          "output_type": "execute_result",
          "data": {
            "text/plain": [
              "27"
            ]
          },
          "metadata": {},
          "execution_count": 13
        }
      ]
    },
    {
      "cell_type": "code",
      "source": [
        "model.compile(Adam(lr=.00015), loss='categorical_crossentropy', metrics=['accuracy'])\n",
        "\n",
        "model.summary()"
      ],
      "metadata": {
        "id": "NiMsyeCTBzuu",
        "colab": {
          "base_uri": "https://localhost:8080/"
        },
        "outputId": "4be4c3b8-2519-4170-85ea-673c7c1cd114"
      },
      "execution_count": null,
      "outputs": [
        {
          "output_type": "stream",
          "name": "stderr",
          "text": [
            "WARNING:absl:`lr` is deprecated, please use `learning_rate` instead, or use the legacy optimizer, e.g.,tf.keras.optimizers.legacy.Adam.\n"
          ]
        },
        {
          "output_type": "stream",
          "name": "stdout",
          "text": [
            "Model: \"sequential\"\n",
            "_________________________________________________________________\n",
            " Layer (type)                Output Shape              Param #   \n",
            "=================================================================\n",
            " conv2d (Conv2D)             (None, 126, 126, 64)      1792      \n",
            "                                                                 \n",
            " elu (ELU)                   (None, 126, 126, 64)      0         \n",
            "                                                                 \n",
            " batch_normalization (BatchN  (None, 126, 126, 64)     256       \n",
            " ormalization)                                                   \n",
            "                                                                 \n",
            " conv2d_1 (Conv2D)           (None, 124, 124, 64)      36928     \n",
            "                                                                 \n",
            " elu_1 (ELU)                 (None, 124, 124, 64)      0         \n",
            "                                                                 \n",
            " batch_normalization_1 (Batc  (None, 124, 124, 64)     256       \n",
            " hNormalization)                                                 \n",
            "                                                                 \n",
            " max_pooling2d (MaxPooling2D  (None, 62, 62, 64)       0         \n",
            " )                                                               \n",
            "                                                                 \n",
            " conv2d_2 (Conv2D)           (None, 60, 60, 128)       73856     \n",
            "                                                                 \n",
            " elu_2 (ELU)                 (None, 60, 60, 128)       0         \n",
            "                                                                 \n",
            " batch_normalization_2 (Batc  (None, 60, 60, 128)      512       \n",
            " hNormalization)                                                 \n",
            "                                                                 \n",
            " conv2d_3 (Conv2D)           (None, 58, 58, 128)       147584    \n",
            "                                                                 \n",
            " elu_3 (ELU)                 (None, 58, 58, 128)       0         \n",
            "                                                                 \n",
            " batch_normalization_3 (Batc  (None, 58, 58, 128)      512       \n",
            " hNormalization)                                                 \n",
            "                                                                 \n",
            " max_pooling2d_1 (MaxPooling  (None, 29, 29, 128)      0         \n",
            " 2D)                                                             \n",
            "                                                                 \n",
            " conv2d_4 (Conv2D)           (None, 27, 27, 256)       295168    \n",
            "                                                                 \n",
            " elu_4 (ELU)                 (None, 27, 27, 256)       0         \n",
            "                                                                 \n",
            " batch_normalization_4 (Batc  (None, 27, 27, 256)      1024      \n",
            " hNormalization)                                                 \n",
            "                                                                 \n",
            " conv2d_5 (Conv2D)           (None, 25, 25, 256)       590080    \n",
            "                                                                 \n",
            " elu_5 (ELU)                 (None, 25, 25, 256)       0         \n",
            "                                                                 \n",
            " batch_normalization_5 (Batc  (None, 25, 25, 256)      1024      \n",
            " hNormalization)                                                 \n",
            "                                                                 \n",
            " max_pooling2d_2 (MaxPooling  (None, 12, 12, 256)      0         \n",
            " 2D)                                                             \n",
            "                                                                 \n",
            " flatten (Flatten)           (None, 36864)             0         \n",
            "                                                                 \n",
            " dense (Dense)               (None, 2048)              75499520  \n",
            "                                                                 \n",
            " elu_6 (ELU)                 (None, 2048)              0         \n",
            "                                                                 \n",
            " batch_normalization_6 (Batc  (None, 2048)             8192      \n",
            " hNormalization)                                                 \n",
            "                                                                 \n",
            " dropout (Dropout)           (None, 2048)              0         \n",
            "                                                                 \n",
            " dense_1 (Dense)             (None, 5)                 10245     \n",
            "                                                                 \n",
            "=================================================================\n",
            "Total params: 76,666,949\n",
            "Trainable params: 76,661,061\n",
            "Non-trainable params: 5,888\n",
            "_________________________________________________________________\n"
          ]
        }
      ]
    },
    {
      "cell_type": "code",
      "source": [
        "train_steps_per_epoch = np.math.ceil(train_batches.samples / train_batches.batch_size)\n",
        "print(train_steps_per_epoch)"
      ],
      "metadata": {
        "id": "58oNDFe2CGEk",
        "colab": {
          "base_uri": "https://localhost:8080/"
        },
        "outputId": "92dbd600-58aa-4abf-9ca2-e37f9e06e96e"
      },
      "execution_count": null,
      "outputs": [
        {
          "output_type": "stream",
          "name": "stdout",
          "text": [
            "7\n"
          ]
        }
      ]
    },
    {
      "cell_type": "code",
      "source": [
        "from IPython.display import display\n",
        "from PIL import Image\n",
        "history = model.fit(train_batches, steps_per_epoch=7, callbacks = [tensorboard], epochs=50)"
      ],
      "metadata": {
        "id": "vIzxUudZCHiy",
        "colab": {
          "base_uri": "https://localhost:8080/"
        },
        "outputId": "4a413129-0f10-4c34-b3e0-8ce2c07e08c4"
      },
      "execution_count": null,
      "outputs": [
        {
          "output_type": "stream",
          "name": "stdout",
          "text": [
            "Epoch 1/50\n",
            "7/7 [==============================] - 102s 14s/step - loss: 4.8070 - accuracy: 0.5271\n",
            "Epoch 2/50\n",
            "7/7 [==============================] - 1s 190ms/step - loss: 1.3592 - accuracy: 0.7241\n",
            "Epoch 3/50\n",
            "7/7 [==============================] - 1s 191ms/step - loss: 0.8136 - accuracy: 0.7635\n",
            "Epoch 4/50\n",
            "7/7 [==============================] - 1s 200ms/step - loss: 0.6234 - accuracy: 0.8030\n",
            "Epoch 5/50\n",
            "7/7 [==============================] - 1s 186ms/step - loss: 0.3567 - accuracy: 0.8424\n",
            "Epoch 6/50\n",
            "7/7 [==============================] - 1s 189ms/step - loss: 0.5607 - accuracy: 0.8177\n",
            "Epoch 7/50\n",
            "7/7 [==============================] - 1s 195ms/step - loss: 0.4316 - accuracy: 0.8424\n",
            "Epoch 8/50\n",
            "7/7 [==============================] - 2s 269ms/step - loss: 0.4059 - accuracy: 0.8374\n",
            "Epoch 9/50\n",
            "7/7 [==============================] - 2s 267ms/step - loss: 0.3537 - accuracy: 0.8621\n",
            "Epoch 10/50\n",
            "7/7 [==============================] - 1s 191ms/step - loss: 0.3257 - accuracy: 0.8966\n",
            "Epoch 11/50\n",
            "7/7 [==============================] - 1s 191ms/step - loss: 0.2378 - accuracy: 0.9113\n",
            "Epoch 12/50\n",
            "7/7 [==============================] - 1s 189ms/step - loss: 0.3649 - accuracy: 0.8916\n",
            "Epoch 13/50\n",
            "7/7 [==============================] - 1s 192ms/step - loss: 0.3073 - accuracy: 0.8818\n",
            "Epoch 14/50\n",
            "7/7 [==============================] - 1s 189ms/step - loss: 0.2454 - accuracy: 0.9113\n",
            "Epoch 15/50\n",
            "7/7 [==============================] - 2s 209ms/step - loss: 0.2286 - accuracy: 0.9261\n",
            "Epoch 16/50\n",
            "7/7 [==============================] - 2s 256ms/step - loss: 0.3371 - accuracy: 0.9113\n",
            "Epoch 17/50\n",
            "7/7 [==============================] - 2s 244ms/step - loss: 0.2762 - accuracy: 0.8916\n",
            "Epoch 18/50\n",
            "7/7 [==============================] - 1s 186ms/step - loss: 0.2657 - accuracy: 0.8621\n",
            "Epoch 19/50\n",
            "7/7 [==============================] - 1s 187ms/step - loss: 0.1122 - accuracy: 0.9606\n",
            "Epoch 20/50\n",
            "7/7 [==============================] - 1s 191ms/step - loss: 0.1963 - accuracy: 0.9310\n",
            "Epoch 21/50\n",
            "7/7 [==============================] - 1s 189ms/step - loss: 0.1453 - accuracy: 0.9507\n",
            "Epoch 22/50\n",
            "7/7 [==============================] - 1s 190ms/step - loss: 0.2332 - accuracy: 0.9261\n",
            "Epoch 23/50\n",
            "7/7 [==============================] - 1s 188ms/step - loss: 0.1531 - accuracy: 0.9458\n",
            "Epoch 24/50\n",
            "7/7 [==============================] - 2s 303ms/step - loss: 0.1576 - accuracy: 0.9507\n",
            "Epoch 25/50\n",
            "7/7 [==============================] - 2s 259ms/step - loss: 0.1181 - accuracy: 0.9655\n",
            "Epoch 26/50\n",
            "7/7 [==============================] - 1s 188ms/step - loss: 0.2361 - accuracy: 0.9212\n",
            "Epoch 27/50\n",
            "7/7 [==============================] - 1s 188ms/step - loss: 0.1762 - accuracy: 0.9409\n",
            "Epoch 28/50\n",
            "7/7 [==============================] - 1s 185ms/step - loss: 0.1384 - accuracy: 0.9458\n",
            "Epoch 29/50\n",
            "7/7 [==============================] - 1s 187ms/step - loss: 0.1270 - accuracy: 0.9557\n",
            "Epoch 30/50\n",
            "7/7 [==============================] - 1s 212ms/step - loss: 0.1033 - accuracy: 0.9704\n",
            "Epoch 31/50\n",
            "7/7 [==============================] - 2s 238ms/step - loss: 0.1287 - accuracy: 0.9606\n",
            "Epoch 32/50\n",
            "7/7 [==============================] - 2s 251ms/step - loss: 0.1785 - accuracy: 0.9409\n",
            "Epoch 33/50\n",
            "7/7 [==============================] - 2s 249ms/step - loss: 0.1892 - accuracy: 0.9458\n",
            "Epoch 34/50\n",
            "7/7 [==============================] - 1s 218ms/step - loss: 0.1758 - accuracy: 0.9310\n",
            "Epoch 35/50\n",
            "7/7 [==============================] - 1s 190ms/step - loss: 0.1014 - accuracy: 0.9507\n",
            "Epoch 36/50\n",
            "7/7 [==============================] - 1s 186ms/step - loss: 0.1627 - accuracy: 0.9557\n",
            "Epoch 37/50\n",
            "7/7 [==============================] - 1s 181ms/step - loss: 0.1039 - accuracy: 0.9507\n",
            "Epoch 38/50\n",
            "7/7 [==============================] - 1s 179ms/step - loss: 0.0803 - accuracy: 0.9655\n",
            "Epoch 39/50\n",
            "7/7 [==============================] - 1s 191ms/step - loss: 0.1997 - accuracy: 0.9409\n",
            "Epoch 40/50\n",
            "7/7 [==============================] - 2s 208ms/step - loss: 0.1686 - accuracy: 0.9458\n",
            "Epoch 41/50\n",
            "7/7 [==============================] - 2s 291ms/step - loss: 0.1160 - accuracy: 0.9655\n",
            "Epoch 42/50\n",
            "7/7 [==============================] - 1s 223ms/step - loss: 0.1622 - accuracy: 0.9360\n",
            "Epoch 43/50\n",
            "7/7 [==============================] - 1s 216ms/step - loss: 0.1071 - accuracy: 0.9507\n",
            "Epoch 44/50\n",
            "7/7 [==============================] - 1s 186ms/step - loss: 0.1531 - accuracy: 0.9655\n",
            "Epoch 45/50\n",
            "7/7 [==============================] - 1s 190ms/step - loss: 0.1905 - accuracy: 0.9507\n",
            "Epoch 46/50\n",
            "7/7 [==============================] - 1s 189ms/step - loss: 0.1575 - accuracy: 0.9507\n",
            "Epoch 47/50\n",
            "7/7 [==============================] - 1s 191ms/step - loss: 0.1436 - accuracy: 0.9458\n",
            "Epoch 48/50\n",
            "7/7 [==============================] - 2s 308ms/step - loss: 0.1181 - accuracy: 0.9704\n",
            "Epoch 49/50\n",
            "7/7 [==============================] - 1s 184ms/step - loss: 0.1285 - accuracy: 0.9557\n",
            "Epoch 50/50\n",
            "7/7 [==============================] - 1s 211ms/step - loss: 0.1055 - accuracy: 0.9655\n"
          ]
        }
      ]
    },
    {
      "cell_type": "code",
      "source": [
        "history.history.keys()"
      ],
      "metadata": {
        "colab": {
          "base_uri": "https://localhost:8080/"
        },
        "id": "t5rP-D4Qfwuf",
        "outputId": "ffc2f232-3d30-4049-e75c-9b179154e45f"
      },
      "execution_count": null,
      "outputs": [
        {
          "output_type": "execute_result",
          "data": {
            "text/plain": [
              "dict_keys(['loss', 'accuracy'])"
            ]
          },
          "metadata": {},
          "execution_count": 17
        }
      ]
    },
    {
      "cell_type": "code",
      "source": [
        "import matplotlib.pyplot as plt\n",
        "\n",
        "plt.plot(history.history['accuracy'])\n",
        "plt.title('model accuracy')\n",
        "plt.ylabel('accuracy')\n",
        "plt.xlabel('epoch')\n",
        "plt.legend(['train'],loc='upper left')\n",
        "plt.show()"
      ],
      "metadata": {
        "colab": {
          "base_uri": "https://localhost:8080/",
          "height": 295
        },
        "id": "DxM6iRreg_u-",
        "outputId": "74dd36c3-515e-4eae-f200-b331152f0c40"
      },
      "execution_count": null,
      "outputs": [
        {
          "output_type": "display_data",
          "data": {
            "text/plain": [
              "<Figure size 432x288 with 1 Axes>"
            ],
            "image/png": "[encoded data removed]"
          },
          "metadata": {
            "needs_background": "light"
          }
        }
      ]
    },
    {
      "cell_type": "code",
      "source": [
        "import matplotlib.pyplot as plt\n",
        "\n",
        "plt.plot(history.history['loss'])\n",
        "plt.title('model loss')\n",
        "plt.ylabel('loss')\n",
        "plt.xlabel('epoch')\n",
        "plt.legend(['train'],loc='upper left')\n",
        "plt.show()"
      ],
      "metadata": {
        "colab": {
          "base_uri": "https://localhost:8080/",
          "height": 295
        },
        "id": "IU7jtDISiwst",
        "outputId": "a8b06cc8-15b4-4eb0-e0f5-bcf087c9b68e"
      },
      "execution_count": null,
      "outputs": [
        {
          "output_type": "display_data",
          "data": {
            "text/plain": [
              "<Figure size 432x288 with 1 Axes>"
            ],
            "image/png": "[encoded data removed]"
          },
          "metadata": {
            "needs_background": "light"
          }
        }
      ]
    },
    {
      "cell_type": "code",
      "source": [
        "model.save('Arrythmia detection.h5')"
      ],
      "metadata": {
        "id": "2rNbXIhyC4jb"
      },
      "execution_count": null,
      "outputs": []
    },
    {
      "cell_type": "code",
      "source": [
        "from tensorflow.keras.models import load_model\n",
        "\n",
        "path_to_model = '/content/Arrythmia detection.h5'\n",
        "\n",
        "model = load_model(path_to_model)"
      ],
      "metadata": {
        "id": "Ou3PgBCvDW3h"
      },
      "execution_count": null,
      "outputs": []
    },
    {
      "cell_type": "code",
      "source": [
        "test_steps_per_epoch = np.math.ceil(test_batches.samples / test_batches.batch_size)\n",
        "print(test_steps_per_epoch)\n",
        "\n",
        "predictions = model.predict(test_batches, steps=2)\n",
        "\n",
        "# Get most likely class\n",
        "predicted_classes = np.argmax(predictions, axis=1)\n",
        "print(predicted_classes)\n",
        "print(len(predicted_classes))"
      ],
      "metadata": {
        "colab": {
          "base_uri": "https://localhost:8080/"
        },
        "id": "pRxqFQ2UQjPT",
        "outputId": "34e7221e-7a6d-4276-d4ad-62c7cb9771e1"
      },
      "execution_count": null,
      "outputs": [
        {
          "output_type": "stream",
          "name": "stdout",
          "text": [
            "2\n",
            "2/2 [==============================] - 0s 76ms/step\n",
            "[2 2 2 2 2 2 2 2 2 2 2 2 2 2 2 2 2 2 2 2 2 2 2 2 2 2 3 2 2 2 3 2 2 2 3 2 2\n",
            " 2 3 2 2 2 3 2 2 2 2 2 2 2 2 2 2 2 2 2 2 2 2 2 2 3 2 2 2 2 2 2 2 2 2 2 2 2\n",
            " 3 2 2 2 3 2 2 2 2 2 2 2 3 2 2 2 3 2 2 2 2 2 2 2 2 2 2 2 2 2 2 2 2 2 2 2 2\n",
            " 2 2 2 2 2]\n",
            "116\n"
          ]
        }
      ]
    },
    {
      "cell_type": "code",
      "source": [
        "filename = \"/content/drive/MyDrive/Dataset/test/F/Ffig_6.png\""
      ],
      "metadata": {
        "id": "375nqeXtSR22"
      },
      "execution_count": null,
      "outputs": []
    },
    {
      "cell_type": "code",
      "source": [
        "from tensorflow.keras.preprocessing.image import ImageDataGenerator, img_to_array, load_img\n",
        "image = load_img(filename, target_size=(128, 128))\n",
        "image = img_to_array(image)\n",
        "image = np.expand_dims(image, axis=0)\n",
        "image /= 255.0\n",
        "pred = model.predict(image.reshape((1, 128, 128, 3)))\n",
        "print(pred)\n",
        "pred_class = pred.argmax(axis=1)\n",
        "if(pred_class == 1):\n",
        "  print('Patient have S type Arrythmia')\n",
        "elif(pred_class == 2):\n",
        "  print('Patient have N type Arrythmia')\n",
        "elif(pred_class == 3):\n",
        "  print('Patient have F type Arrythmia') \n",
        "elif(pred_class== 4):\n",
        "  print('Patient have Q type Arrythmia')\n",
        "else:\n",
        "  print('Patient have V type Arrythmia')"
      ],
      "metadata": {
        "colab": {
          "base_uri": "https://localhost:8080/"
        },
        "id": "rqFPicMJSn_n",
        "outputId": "19cc3d5f-6521-48c4-dd65-4152d8e02ec7"
      },
      "execution_count": null,
      "outputs": [
        {
          "output_type": "stream",
          "name": "stdout",
          "text": [
            "1/1 [==============================] - 0s 33ms/step\n",
            "[[1.8352424e-04 1.1371798e-02 4.7110957e-01 5.1733118e-01 3.9608958e-06]]\n",
            "Patient have F type Arrythmia\n"
          ]
        }
      ]
    }
  ]
}