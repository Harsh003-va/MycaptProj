{
 "cells": [
  {
   "cell_type": "code",
   "execution_count": 1,
   "id": "4a288cc7-080d-4267-8fc2-ae0f311fc59e",
   "metadata": {},
   "outputs": [
    {
     "name": "stdout",
     "output_type": "stream",
     "text": [
      "Positive numbers in the list1:  12 5 64\n",
      "Positive numbers in the list2:  12 14 3\n"
     ]
    }
   ],
   "source": [
    "# list of numbers\n",
    "list1 = [12, -7, 5, 64, -14]\n",
    "list2 = [12, 14, -95, 3]\n",
    " \n",
    "# using list comprehension\n",
    "pos_nos1 = [num for num in list1 if num >= 0]\n",
    "pos_nos2 = [num for num in list2 if num >= 0]\n",
    " \n",
    "print(\"Positive numbers in the list1: \", *pos_nos1)\n",
    "print(\"Positive numbers in the list2: \", *pos_nos2)"
   ]
  },
  {
   "cell_type": "code",
   "execution_count": null,
   "id": "d8c3063f-fe66-408c-96e1-2b37508aaead",
   "metadata": {},
   "outputs": [],
   "source": []
  }
 ],
 "metadata": {
  "kernelspec": {
   "display_name": "Python 3 (ipykernel)",
   "language": "python",
   "name": "python3"
  },
  "language_info": {
   "codemirror_mode": {
    "name": "ipython",
    "version": 3
   },
   "file_extension": ".py",
   "mimetype": "text/x-python",
   "name": "python",
   "nbconvert_exporter": "python",
   "pygments_lexer": "ipython3",
   "version": "3.9.12"
  }
 },
 "nbformat": 4,
 "nbformat_minor": 5
}
